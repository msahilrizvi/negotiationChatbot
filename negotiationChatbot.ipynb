{
 "cells": [
  {
   "cell_type": "code",
   "execution_count": 17,
   "id": "d220c901-6474-4bb0-afaf-d830fb6622f1",
   "metadata": {},
   "outputs": [
    {
     "name": "stdin",
     "output_type": "stream",
     "text": [
      " ········\n"
     ]
    }
   ],
   "source": [
    "import getpass\n",
    "import os\n",
    "\n",
    "os.environ[\"GOOGLE_API_KEY\"] = getpass.getpass()\n",
    "\n",
    "from langchain_google_genai import ChatGoogleGenerativeAI\n",
    "\n",
    "model = ChatGoogleGenerativeAI(model=\"gemini-1.5-flash\")"
   ]
  },
  {
   "cell_type": "code",
   "execution_count": 18,
   "id": "ff57b2d8-8c92-4560-ab40-7e3ffcab2fa0",
   "metadata": {},
   "outputs": [],
   "source": [
    "from langchain_core.messages import HumanMessage, AIMessage, SystemMessage"
   ]
  },
  {
   "cell_type": "code",
   "execution_count": 19,
   "id": "be60fc56-1edb-4f43-9fe8-a409dabd0e50",
   "metadata": {},
   "outputs": [],
   "source": [
    "from langchain_core.chat_history import (\n",
    "    BaseChatMessageHistory,\n",
    "    InMemoryChatMessageHistory,\n",
    ")\n",
    "from langchain_core.runnables.history import RunnableWithMessageHistory\n",
    "\n",
    "store = {}\n",
    "\n",
    "\n",
    "def get_session_history(session_id: str) -> BaseChatMessageHistory:\n",
    "    if session_id not in store:\n",
    "        store[session_id] = InMemoryChatMessageHistory()\n",
    "    return store[session_id]\n",
    "\n",
    "\n",
    "with_message_history = RunnableWithMessageHistory(model, get_session_history)"
   ]
  },
  {
   "cell_type": "code",
   "execution_count": 20,
   "id": "637a1367-bd8f-419c-b55d-33463b8838d7",
   "metadata": {},
   "outputs": [],
   "source": [
    "config = {\"configurable\": {\"session_id\": \"abc2\"}}"
   ]
  },
  {
   "cell_type": "code",
   "execution_count": 25,
   "id": "ef263a8e-d327-47d3-a612-dc4045248935",
   "metadata": {},
   "outputs": [],
   "source": [
    "BASE_PRICE = 100\n",
    "MINIMUM_PRICE = 70"
   ]
  },
  {
   "cell_type": "code",
   "execution_count": 45,
   "id": "076674b6-4986-4528-93cf-fc59cae2e7da",
   "metadata": {},
   "outputs": [],
   "source": [
    "def query_bot(prompt: str) -> str:\n",
    "    response = model([HumanMessage(content=prompt)])\n",
    "    return response[0].content"
   ]
  },
  {
   "cell_type": "code",
   "execution_count": 46,
   "id": "9047ef06-585e-4621-9ef6-b3e1f4a6e567",
   "metadata": {},
   "outputs": [],
   "source": [
    "def handle_user_response(user_input, bot_offer):\n",
    "    if user_input.lower() == \"accept\":\n",
    "        print(f\"Bot: Great! You've accepted the offer at ${bot_offer}.\")\n",
    "        return True\n",
    "    \n",
    "    elif user_input.lower() == \"reject\":\n",
    "        print(\"Bot: Sorry to hear that. The negotiation has ended.\")\n",
    "        return True\n",
    "    \n",
    "    elif user_input.lower() == \"counteroffer\":\n",
    "        return False\n",
    "    \n",
    "    else:\n",
    "        print(\"Invalid option. Please type 'accept', 'reject', or 'counteroffer'.\")\n",
    "        return False"
   ]
  },
  {
   "cell_type": "code",
   "execution_count": 51,
   "id": "96e7dcaa-a62c-4ff3-ac17-51209034ac1e",
   "metadata": {},
   "outputs": [
    {
     "name": "stdout",
     "output_type": "stream",
     "text": [
      "Bot: I’m offering the product for $100. What would you like to do? (Type 'accept', 'reject', or 'counteroffer')\n"
     ]
    },
    {
     "name": "stdin",
     "output_type": "stream",
     "text": [
      "You (Customer):  40\n"
     ]
    },
    {
     "name": "stdout",
     "output_type": "stream",
     "text": [
      "Invalid option. Please type 'accept', 'reject', or 'counteroffer'.\n"
     ]
    },
    {
     "ename": "KeyboardInterrupt",
     "evalue": "Interrupted by user",
     "output_type": "error",
     "traceback": [
      "\u001b[1;31m---------------------------------------------------------------------------\u001b[0m",
      "\u001b[1;31mKeyboardInterrupt\u001b[0m                         Traceback (most recent call last)",
      "Cell \u001b[1;32mIn[51], line 50\u001b[0m\n\u001b[0;32m     47\u001b[0m                 \u001b[38;5;28mprint\u001b[39m(\u001b[38;5;124mf\u001b[39m\u001b[38;5;124m\"\u001b[39m\u001b[38;5;124mBot: I can offer you $\u001b[39m\u001b[38;5;132;01m{\u001b[39;00mbot_offer\u001b[38;5;132;01m}\u001b[39;00m\u001b[38;5;124m. Would you like to accept, reject, or counteroffer?\u001b[39m\u001b[38;5;124m\"\u001b[39m)\n\u001b[0;32m     48\u001b[0m                 \u001b[38;5;28;01mbreak\u001b[39;00m\n\u001b[1;32m---> 50\u001b[0m \u001b[43mhandle_negotiation\u001b[49m\u001b[43m(\u001b[49m\u001b[43m)\u001b[49m\n",
      "Cell \u001b[1;32mIn[51], line 13\u001b[0m, in \u001b[0;36mhandle_negotiation\u001b[1;34m()\u001b[0m\n\u001b[0;32m     10\u001b[0m     \u001b[38;5;28;01mbreak\u001b[39;00m\n\u001b[0;32m     12\u001b[0m \u001b[38;5;28;01mwhile\u001b[39;00m \u001b[38;5;129;01mnot\u001b[39;00m negotiation_over:\n\u001b[1;32m---> 13\u001b[0m     user_input \u001b[38;5;241m=\u001b[39m \u001b[38;5;28;43minput\u001b[39;49m\u001b[43m(\u001b[49m\u001b[38;5;124;43m\"\u001b[39;49m\u001b[38;5;124;43mYou (Customer): Please enter your counteroffer: \u001b[39;49m\u001b[38;5;124;43m\"\u001b[39;49m\u001b[43m)\u001b[49m\n\u001b[0;32m     15\u001b[0m     \u001b[38;5;28;01mif\u001b[39;00m user_input\u001b[38;5;241m.\u001b[39mlower() \u001b[38;5;241m==\u001b[39m \u001b[38;5;124m\"\u001b[39m\u001b[38;5;124mexit\u001b[39m\u001b[38;5;124m\"\u001b[39m:\n\u001b[0;32m     16\u001b[0m         \u001b[38;5;28mprint\u001b[39m(\u001b[38;5;124m\"\u001b[39m\u001b[38;5;124mYou have exited the negotiation.\u001b[39m\u001b[38;5;124m\"\u001b[39m)\n",
      "File \u001b[1;32m~\\AppData\\Roaming\\Python\\Python311\\site-packages\\ipykernel\\kernelbase.py:1282\u001b[0m, in \u001b[0;36mKernel.raw_input\u001b[1;34m(self, prompt)\u001b[0m\n\u001b[0;32m   1280\u001b[0m     msg \u001b[38;5;241m=\u001b[39m \u001b[38;5;124m\"\u001b[39m\u001b[38;5;124mraw_input was called, but this frontend does not support input requests.\u001b[39m\u001b[38;5;124m\"\u001b[39m\n\u001b[0;32m   1281\u001b[0m     \u001b[38;5;28;01mraise\u001b[39;00m StdinNotImplementedError(msg)\n\u001b[1;32m-> 1282\u001b[0m \u001b[38;5;28;01mreturn\u001b[39;00m \u001b[38;5;28;43mself\u001b[39;49m\u001b[38;5;241;43m.\u001b[39;49m\u001b[43m_input_request\u001b[49m\u001b[43m(\u001b[49m\n\u001b[0;32m   1283\u001b[0m \u001b[43m    \u001b[49m\u001b[38;5;28;43mstr\u001b[39;49m\u001b[43m(\u001b[49m\u001b[43mprompt\u001b[49m\u001b[43m)\u001b[49m\u001b[43m,\u001b[49m\n\u001b[0;32m   1284\u001b[0m \u001b[43m    \u001b[49m\u001b[38;5;28;43mself\u001b[39;49m\u001b[38;5;241;43m.\u001b[39;49m\u001b[43m_parent_ident\u001b[49m\u001b[43m[\u001b[49m\u001b[38;5;124;43m\"\u001b[39;49m\u001b[38;5;124;43mshell\u001b[39;49m\u001b[38;5;124;43m\"\u001b[39;49m\u001b[43m]\u001b[49m\u001b[43m,\u001b[49m\n\u001b[0;32m   1285\u001b[0m \u001b[43m    \u001b[49m\u001b[38;5;28;43mself\u001b[39;49m\u001b[38;5;241;43m.\u001b[39;49m\u001b[43mget_parent\u001b[49m\u001b[43m(\u001b[49m\u001b[38;5;124;43m\"\u001b[39;49m\u001b[38;5;124;43mshell\u001b[39;49m\u001b[38;5;124;43m\"\u001b[39;49m\u001b[43m)\u001b[49m\u001b[43m,\u001b[49m\n\u001b[0;32m   1286\u001b[0m \u001b[43m    \u001b[49m\u001b[43mpassword\u001b[49m\u001b[38;5;241;43m=\u001b[39;49m\u001b[38;5;28;43;01mFalse\u001b[39;49;00m\u001b[43m,\u001b[49m\n\u001b[0;32m   1287\u001b[0m \u001b[43m\u001b[49m\u001b[43m)\u001b[49m\n",
      "File \u001b[1;32m~\\AppData\\Roaming\\Python\\Python311\\site-packages\\ipykernel\\kernelbase.py:1325\u001b[0m, in \u001b[0;36mKernel._input_request\u001b[1;34m(self, prompt, ident, parent, password)\u001b[0m\n\u001b[0;32m   1322\u001b[0m \u001b[38;5;28;01mexcept\u001b[39;00m \u001b[38;5;167;01mKeyboardInterrupt\u001b[39;00m:\n\u001b[0;32m   1323\u001b[0m     \u001b[38;5;66;03m# re-raise KeyboardInterrupt, to truncate traceback\u001b[39;00m\n\u001b[0;32m   1324\u001b[0m     msg \u001b[38;5;241m=\u001b[39m \u001b[38;5;124m\"\u001b[39m\u001b[38;5;124mInterrupted by user\u001b[39m\u001b[38;5;124m\"\u001b[39m\n\u001b[1;32m-> 1325\u001b[0m     \u001b[38;5;28;01mraise\u001b[39;00m \u001b[38;5;167;01mKeyboardInterrupt\u001b[39;00m(msg) \u001b[38;5;28;01mfrom\u001b[39;00m \u001b[38;5;28;01mNone\u001b[39;00m\n\u001b[0;32m   1326\u001b[0m \u001b[38;5;28;01mexcept\u001b[39;00m \u001b[38;5;167;01mException\u001b[39;00m:\n\u001b[0;32m   1327\u001b[0m     \u001b[38;5;28mself\u001b[39m\u001b[38;5;241m.\u001b[39mlog\u001b[38;5;241m.\u001b[39mwarning(\u001b[38;5;124m\"\u001b[39m\u001b[38;5;124mInvalid Message:\u001b[39m\u001b[38;5;124m\"\u001b[39m, exc_info\u001b[38;5;241m=\u001b[39m\u001b[38;5;28;01mTrue\u001b[39;00m)\n",
      "\u001b[1;31mKeyboardInterrupt\u001b[0m: Interrupted by user"
     ]
    }
   ],
   "source": [
    "def handle_negotiation():\n",
    "    bot_offer = BASE_PRICE\n",
    "    print(f\"Bot: I’m offering the product for ${BASE_PRICE}. What would you like to do? (Type 'accept', 'reject', or 'counteroffer')\")\n",
    "\n",
    "    while True:\n",
    "        user_action = input(\"You (Customer): \")\n",
    "\n",
    "        negotiation_over = handle_user_response(user_action, bot_offer)\n",
    "        if negotiation_over:\n",
    "            break\n",
    "    \n",
    "        while not negotiation_over:\n",
    "            user_input = input(\"You (Customer): Please enter your counteroffer: \")\n",
    "\n",
    "            if user_input.lower() == \"exit\":\n",
    "                print(\"You have exited the negotiation.\")\n",
    "                return\n",
    "\n",
    "            try:\n",
    "                user_offer = float(user_input)\n",
    "            except ValueError:\n",
    "                print(\"Invalid offer. Please provide a valid number.\")\n",
    "                continue\n",
    "\n",
    "            if user_offer >= bot_offer:\n",
    "                print(f\"Bot: Offer accepted at ${user_offer}!\")\n",
    "                return\n",
    "            \n",
    "            elif DISCOUNTED_PRICE <= user_offer < bot_offer:\n",
    "                print(f\"Bot: We can accept your offer of ${user_offer} at a discounted rate.\")\n",
    "                return\n",
    "            \n",
    "            elif MINIMUM_PRICE <= user_offer < DISCOUNTED_PRICE:\n",
    "                prompt = f\"A customer is offering ${user_offer} for a product priced at ${bot_offer}. How would you negotiate further?\"\n",
    "                bot_response = query_bot(prompt)\n",
    "                print(f\"Bot: {bot_response}\")\n",
    "                \n",
    "                bot_offer = max(bot_offer - 10.0, MINIMUM_PRICE)\n",
    "                print(f\"Bot: How about ${bot_offer}?\")\n",
    "\n",
    "                print(\"Bot: Would you like to accept, reject, or counteroffer?\")\n",
    "                break\n",
    "            \n",
    "            else:\n",
    "                print(f\"Bot: Unfortunately, we cannot accept your offer of ${user_offer}.\")\n",
    "                bot_offer = max(bot_offer - 10.0, MINIMUM_PRICE)\n",
    "                print(f\"Bot: I can offer you ${bot_offer}. Would you like to accept, reject, or counteroffer?\")\n",
    "                break\n",
    "\n",
    "handle_negotiation()"
   ]
  },
  {
   "cell_type": "code",
   "execution_count": null,
   "id": "b0060a65-ac65-4781-9757-355255f2f3bd",
   "metadata": {},
   "outputs": [],
   "source": []
  }
 ],
 "metadata": {
  "kernelspec": {
   "display_name": "Python 3 (ipykernel)",
   "language": "python",
   "name": "python3"
  },
  "language_info": {
   "codemirror_mode": {
    "name": "ipython",
    "version": 3
   },
   "file_extension": ".py",
   "mimetype": "text/x-python",
   "name": "python",
   "nbconvert_exporter": "python",
   "pygments_lexer": "ipython3",
   "version": "3.11.9"
  }
 },
 "nbformat": 4,
 "nbformat_minor": 5
}
