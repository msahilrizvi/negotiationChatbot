{
 "cells": [
  {
   "cell_type": "code",
   "execution_count": 1,
   "id": "d220c901-6474-4bb0-afaf-d830fb6622f1",
   "metadata": {},
   "outputs": [
    {
     "name": "stdin",
     "output_type": "stream",
     "text": [
      " ········\n"
     ]
    }
   ],
   "source": [
    "import getpass\n",
    "import os\n",
    "\n",
    "os.environ[\"GOOGLE_API_KEY\"] = getpass.getpass()\n",
    "\n",
    "from langchain_google_genai import ChatGoogleGenerativeAI\n",
    "\n",
    "model = ChatGoogleGenerativeAI(model=\"gemini-1.5-flash\")"
   ]
  },
  {
   "cell_type": "code",
   "execution_count": 2,
   "id": "ff57b2d8-8c92-4560-ab40-7e3ffcab2fa0",
   "metadata": {},
   "outputs": [],
   "source": [
    "from langchain_core.messages import HumanMessage, AIMessage, SystemMessage"
   ]
  },
  {
   "cell_type": "code",
   "execution_count": 3,
   "id": "be60fc56-1edb-4f43-9fe8-a409dabd0e50",
   "metadata": {},
   "outputs": [],
   "source": [
    "from langchain_core.chat_history import (\n",
    "    BaseChatMessageHistory,\n",
    "    InMemoryChatMessageHistory,\n",
    ")\n",
    "from langchain_core.runnables.history import RunnableWithMessageHistory\n",
    "\n",
    "store = {}\n",
    "\n",
    "\n",
    "def get_session_history(session_id: str) -> BaseChatMessageHistory:\n",
    "    if session_id not in store:\n",
    "        store[session_id] = InMemoryChatMessageHistory()\n",
    "    return store[session_id]\n",
    "\n",
    "\n",
    "with_message_history = RunnableWithMessageHistory(model, get_session_history)"
   ]
  },
  {
   "cell_type": "code",
   "execution_count": 4,
   "id": "637a1367-bd8f-419c-b55d-33463b8838d7",
   "metadata": {},
   "outputs": [],
   "source": [
    "config = {\"configurable\": {\"session_id\": \"abc2\"}}"
   ]
  },
  {
   "cell_type": "code",
   "execution_count": 18,
   "id": "ef263a8e-d327-47d3-a612-dc4045248935",
   "metadata": {},
   "outputs": [],
   "source": [
    "BASE_PRICE = 100\n",
    "MINIMUM_PRICE = 70"
   ]
  },
  {
   "cell_type": "code",
   "execution_count": 6,
   "id": "076674b6-4986-4528-93cf-fc59cae2e7da",
   "metadata": {},
   "outputs": [],
   "source": [
    "def query_bot(prompt: str) -> str:\n",
    "    response = model([HumanMessage(content=prompt)])\n",
    "    return response[0].content"
   ]
  },
  {
   "cell_type": "code",
   "execution_count": 7,
   "id": "9047ef06-585e-4621-9ef6-b3e1f4a6e567",
   "metadata": {},
   "outputs": [],
   "source": [
    "def handle_user_response(user_input, bot_offer):\n",
    "    if user_input.lower() == \"accept\":\n",
    "        print(f\"Bot: Great! You've accepted the offer at ${bot_offer}.\")\n",
    "        return True\n",
    "    \n",
    "    elif user_input.lower() == \"reject\":\n",
    "        print(\"Bot: Sorry to hear that. The negotiation has ended.\")\n",
    "        return True\n",
    "    \n",
    "    elif user_input.lower() == \"counteroffer\":\n",
    "        return False\n",
    "    \n",
    "    else:\n",
    "        print(\"Invalid option. Please type 'accept', 'reject', or 'counteroffer'.\")\n",
    "        return False"
   ]
  },
  {
   "cell_type": "code",
   "execution_count": 25,
   "id": "96e7dcaa-a62c-4ff3-ac17-51209034ac1e",
   "metadata": {},
   "outputs": [
    {
     "name": "stdout",
     "output_type": "stream",
     "text": [
      "Bot: I’m offering the product for $100. What would you like to do? (Type 'accept', 'reject', or 'counteroffer')\n"
     ]
    },
    {
     "name": "stdin",
     "output_type": "stream",
     "text": [
      "You (Customer):  counteroffer\n",
      "You (Customer): Please enter your counteroffer:  80\n"
     ]
    },
    {
     "name": "stdout",
     "output_type": "stream",
     "text": [
      "Bot: Offer accepted at $80.0!\n"
     ]
    }
   ],
   "source": [
    "def handle_negotiation():\n",
    "    bot_offer = BASE_PRICE\n",
    "    print(f\"Bot: I’m offering the product for ${BASE_PRICE}. What would you like to do? (Type 'accept', 'reject', or 'counteroffer')\")\n",
    "\n",
    "    while True:\n",
    "        user_action = input(\"You (Customer): \")\n",
    "\n",
    "        negotiation_over = handle_user_response(user_action, bot_offer)\n",
    "        if negotiation_over:\n",
    "            break\n",
    "    \n",
    "        while not negotiation_over:\n",
    "            user_input = input(\"You (Customer): Please enter your counteroffer: \")\n",
    "\n",
    "            if user_input.lower() == \"exit\":\n",
    "                print(\"You have exited the negotiation.\")\n",
    "                return\n",
    "\n",
    "            try:\n",
    "                user_offer = float(user_input)\n",
    "            except ValueError:\n",
    "                print(\"Invalid offer. Please provide a valid number.\")\n",
    "                continue\n",
    "\n",
    "            if user_offer >= bot_offer or user_offer >= MINIMUM_PRICE:\n",
    "                print(f\"Bot: Offer accepted at ${user_offer}!\")\n",
    "                return\n",
    "            elif bot_offer == MINIMUM_PRICE:\n",
    "                print(f\"Bot: ${MINIMUM_PRICE} is my minimimum offer, you can accept or reject it.\")\n",
    "                break\n",
    "            elif (bot_offer - 10.0) == MINIMUM_PRICE:\n",
    "                print(f\"Bot: ${MINIMUM_PRICE} is my minimimum offer, you can accept or reject it.\")\n",
    "                bot_offer = bot_offer - 10\n",
    "                break\n",
    "            else:\n",
    "                print(f\"Bot: Unfortunately, we cannot accept your offer of ${user_offer}.\")\n",
    "                bot_offer = max(bot_offer - 10.0, MINIMUM_PRICE)\n",
    "                print(f\"Bot: I can offer you ${bot_offer}. Would you like to accept, reject, or counteroffer?\")\n",
    "                break\n",
    "\n",
    "handle_negotiation()"
   ]
  },
  {
   "cell_type": "code",
   "execution_count": null,
   "id": "b0060a65-ac65-4781-9757-355255f2f3bd",
   "metadata": {},
   "outputs": [],
   "source": []
  }
 ],
 "metadata": {
  "kernelspec": {
   "display_name": "Python 3 (ipykernel)",
   "language": "python",
   "name": "python3"
  },
  "language_info": {
   "codemirror_mode": {
    "name": "ipython",
    "version": 3
   },
   "file_extension": ".py",
   "mimetype": "text/x-python",
   "name": "python",
   "nbconvert_exporter": "python",
   "pygments_lexer": "ipython3",
   "version": "3.11.9"
  }
 },
 "nbformat": 4,
 "nbformat_minor": 5
}
